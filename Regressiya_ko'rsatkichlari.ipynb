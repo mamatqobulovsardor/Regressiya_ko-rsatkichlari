{
  "nbformat": 4,
  "nbformat_minor": 0,
  "metadata": {
    "colab": {
      "provenance": [],
      "authorship_tag": "ABX9TyOVYB2DDgUhjCCy3PXttHdg",
      "include_colab_link": true
    },
    "kernelspec": {
      "name": "python3",
      "display_name": "Python 3"
    },
    "language_info": {
      "name": "python"
    }
  },
  "cells": [
    {
      "cell_type": "markdown",
      "metadata": {
        "id": "view-in-github",
        "colab_type": "text"
      },
      "source": [
        "<a href=\"https://colab.research.google.com/github/mamatqobulovsardor/Regressiya_ko-rsatkichlari/blob/main/Regressiya_ko'rsatkichlari.ipynb\" target=\"_parent\"><img src=\"https://colab.research.google.com/assets/colab-badge.svg\" alt=\"Open In Colab\"/></a>"
      ]
    },
    {
      "cell_type": "markdown",
      "source": [
        "##Regressiya Metrikalari"
      ],
      "metadata": {
        "id": "fDpmoHCgZJ7C"
      }
    },
    {
      "cell_type": "markdown",
      "source": [
        "Ushbu daftarda biz eng keng tarqalgan regressiya metrikalarini ko‘rib chiqamiz. Bu 365 Data Science kursining ML jarayoniga bag‘ishlangan qo‘shimcha ish daftari hisoblanadi. Ushbu daftarda faqat implementatsiya qismi ko‘rib chiqiladi. Har bir yondashuvning batafsil tushuntirishlari uchun kursni yoki hujjatlarni ko‘rib chiqing"
      ],
      "metadata": {
        "id": "hw1fWUdDZfWa"
      }
    },
    {
      "cell_type": "markdown",
      "source": [
        "R2 Skori\n",
        "Adj R2 Skori\n",
        "O'rtacha Mutlaq Xato (MAE)\n",
        "Kök O'rtacha Kvadrat Xato (RMSE)"
      ],
      "metadata": {
        "id": "W96jMS11ZJnz"
      }
    },
    {
      "cell_type": "code",
      "source": [
        "import numpy as np\n",
        "import pandas as pd\n",
        "import matplotlib.pyplot as plt\n",
        "\n",
        "%matplotlib inline"
      ],
      "metadata": {
        "id": "IoOgZ9T9Zzks"
      },
      "execution_count": 29,
      "outputs": []
    },
    {
      "cell_type": "markdown",
      "source": [
        "##Ma'lumotlarni yuklash"
      ],
      "metadata": {
        "id": "69DNcVvHaTeO"
      }
    },
    {
      "cell_type": "markdown",
      "source": [
        "Ushbu ma'lumotlar to'plami uy-joylar narxiga oid ma'lumotlardan iborat. Ma'lumotlar to'plamidagi xususiyatlarga asoslanib, uylarga optimal narxni belgilash uchun ML modellari keng qo'llaniladi. Ushbu daftarda biz uy narxini bashorat qilish modeli yaratib, uylarga narx belgilashga yordam beramiz"
      ],
      "metadata": {
        "id": "HMZT5cRFaVuX"
      }
    },
    {
      "cell_type": "code",
      "source": [
        "data = pd.read_csv(\"https://raw.githubusercontent.com/PlayingNumbers/ML_Process_Course/refs/heads/main/12_model_evaluation/housing_data.csv\")\n",
        "\n",
        "data.head()"
      ],
      "metadata": {
        "colab": {
          "base_uri": "https://localhost:8080/",
          "height": 417
        },
        "id": "Ft506cTrWwZM",
        "outputId": "13b07787-b009-4c1b-b108-4ef351ed9d21"
      },
      "execution_count": 30,
      "outputs": [
        {
          "output_type": "execute_result",
          "data": {
            "text/plain": [
              "                  date      price  bedrooms  bathrooms  sqft_living  sqft_lot  \\\n",
              "0  2014-05-02 00:00:00   313000.0       3.0       1.50         1340      7912   \n",
              "1  2014-05-02 00:00:00  2384000.0       5.0       2.50         3650      9050   \n",
              "2  2014-05-02 00:00:00   342000.0       3.0       2.00         1930     11947   \n",
              "3  2014-05-02 00:00:00   420000.0       3.0       2.25         2000      8030   \n",
              "4  2014-05-02 00:00:00   550000.0       4.0       2.50         1940     10500   \n",
              "\n",
              "   floors  waterfront  view  condition  sqft_above  sqft_basement  yr_built  \\\n",
              "0     1.5           0     0          3        1340              0      1955   \n",
              "1     2.0           0     4          5        3370            280      1921   \n",
              "2     1.0           0     0          4        1930              0      1966   \n",
              "3     1.0           0     0          4        1000           1000      1963   \n",
              "4     1.0           0     0          4        1140            800      1976   \n",
              "\n",
              "   yr_renovated                    street       city  statezip country  \n",
              "0          2005      18810 Densmore Ave N  Shoreline  WA 98133     USA  \n",
              "1             0           709 W Blaine St    Seattle  WA 98119     USA  \n",
              "2             0  26206-26214 143rd Ave SE       Kent  WA 98042     USA  \n",
              "3             0           857 170th Pl NE   Bellevue  WA 98008     USA  \n",
              "4          1992         9105 170th Ave NE    Redmond  WA 98052     USA  "
            ],
            "text/html": [
              "\n",
              "  <div id=\"df-630c6a57-2164-45e1-861c-9ce4e5b3bdbc\" class=\"colab-df-container\">\n",
              "    <div>\n",
              "<style scoped>\n",
              "    .dataframe tbody tr th:only-of-type {\n",
              "        vertical-align: middle;\n",
              "    }\n",
              "\n",
              "    .dataframe tbody tr th {\n",
              "        vertical-align: top;\n",
              "    }\n",
              "\n",
              "    .dataframe thead th {\n",
              "        text-align: right;\n",
              "    }\n",
              "</style>\n",
              "<table border=\"1\" class=\"dataframe\">\n",
              "  <thead>\n",
              "    <tr style=\"text-align: right;\">\n",
              "      <th></th>\n",
              "      <th>date</th>\n",
              "      <th>price</th>\n",
              "      <th>bedrooms</th>\n",
              "      <th>bathrooms</th>\n",
              "      <th>sqft_living</th>\n",
              "      <th>sqft_lot</th>\n",
              "      <th>floors</th>\n",
              "      <th>waterfront</th>\n",
              "      <th>view</th>\n",
              "      <th>condition</th>\n",
              "      <th>sqft_above</th>\n",
              "      <th>sqft_basement</th>\n",
              "      <th>yr_built</th>\n",
              "      <th>yr_renovated</th>\n",
              "      <th>street</th>\n",
              "      <th>city</th>\n",
              "      <th>statezip</th>\n",
              "      <th>country</th>\n",
              "    </tr>\n",
              "  </thead>\n",
              "  <tbody>\n",
              "    <tr>\n",
              "      <th>0</th>\n",
              "      <td>2014-05-02 00:00:00</td>\n",
              "      <td>313000.0</td>\n",
              "      <td>3.0</td>\n",
              "      <td>1.50</td>\n",
              "      <td>1340</td>\n",
              "      <td>7912</td>\n",
              "      <td>1.5</td>\n",
              "      <td>0</td>\n",
              "      <td>0</td>\n",
              "      <td>3</td>\n",
              "      <td>1340</td>\n",
              "      <td>0</td>\n",
              "      <td>1955</td>\n",
              "      <td>2005</td>\n",
              "      <td>18810 Densmore Ave N</td>\n",
              "      <td>Shoreline</td>\n",
              "      <td>WA 98133</td>\n",
              "      <td>USA</td>\n",
              "    </tr>\n",
              "    <tr>\n",
              "      <th>1</th>\n",
              "      <td>2014-05-02 00:00:00</td>\n",
              "      <td>2384000.0</td>\n",
              "      <td>5.0</td>\n",
              "      <td>2.50</td>\n",
              "      <td>3650</td>\n",
              "      <td>9050</td>\n",
              "      <td>2.0</td>\n",
              "      <td>0</td>\n",
              "      <td>4</td>\n",
              "      <td>5</td>\n",
              "      <td>3370</td>\n",
              "      <td>280</td>\n",
              "      <td>1921</td>\n",
              "      <td>0</td>\n",
              "      <td>709 W Blaine St</td>\n",
              "      <td>Seattle</td>\n",
              "      <td>WA 98119</td>\n",
              "      <td>USA</td>\n",
              "    </tr>\n",
              "    <tr>\n",
              "      <th>2</th>\n",
              "      <td>2014-05-02 00:00:00</td>\n",
              "      <td>342000.0</td>\n",
              "      <td>3.0</td>\n",
              "      <td>2.00</td>\n",
              "      <td>1930</td>\n",
              "      <td>11947</td>\n",
              "      <td>1.0</td>\n",
              "      <td>0</td>\n",
              "      <td>0</td>\n",
              "      <td>4</td>\n",
              "      <td>1930</td>\n",
              "      <td>0</td>\n",
              "      <td>1966</td>\n",
              "      <td>0</td>\n",
              "      <td>26206-26214 143rd Ave SE</td>\n",
              "      <td>Kent</td>\n",
              "      <td>WA 98042</td>\n",
              "      <td>USA</td>\n",
              "    </tr>\n",
              "    <tr>\n",
              "      <th>3</th>\n",
              "      <td>2014-05-02 00:00:00</td>\n",
              "      <td>420000.0</td>\n",
              "      <td>3.0</td>\n",
              "      <td>2.25</td>\n",
              "      <td>2000</td>\n",
              "      <td>8030</td>\n",
              "      <td>1.0</td>\n",
              "      <td>0</td>\n",
              "      <td>0</td>\n",
              "      <td>4</td>\n",
              "      <td>1000</td>\n",
              "      <td>1000</td>\n",
              "      <td>1963</td>\n",
              "      <td>0</td>\n",
              "      <td>857 170th Pl NE</td>\n",
              "      <td>Bellevue</td>\n",
              "      <td>WA 98008</td>\n",
              "      <td>USA</td>\n",
              "    </tr>\n",
              "    <tr>\n",
              "      <th>4</th>\n",
              "      <td>2014-05-02 00:00:00</td>\n",
              "      <td>550000.0</td>\n",
              "      <td>4.0</td>\n",
              "      <td>2.50</td>\n",
              "      <td>1940</td>\n",
              "      <td>10500</td>\n",
              "      <td>1.0</td>\n",
              "      <td>0</td>\n",
              "      <td>0</td>\n",
              "      <td>4</td>\n",
              "      <td>1140</td>\n",
              "      <td>800</td>\n",
              "      <td>1976</td>\n",
              "      <td>1992</td>\n",
              "      <td>9105 170th Ave NE</td>\n",
              "      <td>Redmond</td>\n",
              "      <td>WA 98052</td>\n",
              "      <td>USA</td>\n",
              "    </tr>\n",
              "  </tbody>\n",
              "</table>\n",
              "</div>\n",
              "    <div class=\"colab-df-buttons\">\n",
              "\n",
              "  <div class=\"colab-df-container\">\n",
              "    <button class=\"colab-df-convert\" onclick=\"convertToInteractive('df-630c6a57-2164-45e1-861c-9ce4e5b3bdbc')\"\n",
              "            title=\"Convert this dataframe to an interactive table.\"\n",
              "            style=\"display:none;\">\n",
              "\n",
              "  <svg xmlns=\"http://www.w3.org/2000/svg\" height=\"24px\" viewBox=\"0 -960 960 960\">\n",
              "    <path d=\"M120-120v-720h720v720H120Zm60-500h600v-160H180v160Zm220 220h160v-160H400v160Zm0 220h160v-160H400v160ZM180-400h160v-160H180v160Zm440 0h160v-160H620v160ZM180-180h160v-160H180v160Zm440 0h160v-160H620v160Z\"/>\n",
              "  </svg>\n",
              "    </button>\n",
              "\n",
              "  <style>\n",
              "    .colab-df-container {\n",
              "      display:flex;\n",
              "      gap: 12px;\n",
              "    }\n",
              "\n",
              "    .colab-df-convert {\n",
              "      background-color: #E8F0FE;\n",
              "      border: none;\n",
              "      border-radius: 50%;\n",
              "      cursor: pointer;\n",
              "      display: none;\n",
              "      fill: #1967D2;\n",
              "      height: 32px;\n",
              "      padding: 0 0 0 0;\n",
              "      width: 32px;\n",
              "    }\n",
              "\n",
              "    .colab-df-convert:hover {\n",
              "      background-color: #E2EBFA;\n",
              "      box-shadow: 0px 1px 2px rgba(60, 64, 67, 0.3), 0px 1px 3px 1px rgba(60, 64, 67, 0.15);\n",
              "      fill: #174EA6;\n",
              "    }\n",
              "\n",
              "    .colab-df-buttons div {\n",
              "      margin-bottom: 4px;\n",
              "    }\n",
              "\n",
              "    [theme=dark] .colab-df-convert {\n",
              "      background-color: #3B4455;\n",
              "      fill: #D2E3FC;\n",
              "    }\n",
              "\n",
              "    [theme=dark] .colab-df-convert:hover {\n",
              "      background-color: #434B5C;\n",
              "      box-shadow: 0px 1px 3px 1px rgba(0, 0, 0, 0.15);\n",
              "      filter: drop-shadow(0px 1px 2px rgba(0, 0, 0, 0.3));\n",
              "      fill: #FFFFFF;\n",
              "    }\n",
              "  </style>\n",
              "\n",
              "    <script>\n",
              "      const buttonEl =\n",
              "        document.querySelector('#df-630c6a57-2164-45e1-861c-9ce4e5b3bdbc button.colab-df-convert');\n",
              "      buttonEl.style.display =\n",
              "        google.colab.kernel.accessAllowed ? 'block' : 'none';\n",
              "\n",
              "      async function convertToInteractive(key) {\n",
              "        const element = document.querySelector('#df-630c6a57-2164-45e1-861c-9ce4e5b3bdbc');\n",
              "        const dataTable =\n",
              "          await google.colab.kernel.invokeFunction('convertToInteractive',\n",
              "                                                    [key], {});\n",
              "        if (!dataTable) return;\n",
              "\n",
              "        const docLinkHtml = 'Like what you see? Visit the ' +\n",
              "          '<a target=\"_blank\" href=https://colab.research.google.com/notebooks/data_table.ipynb>data table notebook</a>'\n",
              "          + ' to learn more about interactive tables.';\n",
              "        element.innerHTML = '';\n",
              "        dataTable['output_type'] = 'display_data';\n",
              "        await google.colab.output.renderOutput(dataTable, element);\n",
              "        const docLink = document.createElement('div');\n",
              "        docLink.innerHTML = docLinkHtml;\n",
              "        element.appendChild(docLink);\n",
              "      }\n",
              "    </script>\n",
              "  </div>\n",
              "\n",
              "\n",
              "<div id=\"df-03f90a42-74c3-4654-a376-78a056b3c576\">\n",
              "  <button class=\"colab-df-quickchart\" onclick=\"quickchart('df-03f90a42-74c3-4654-a376-78a056b3c576')\"\n",
              "            title=\"Suggest charts\"\n",
              "            style=\"display:none;\">\n",
              "\n",
              "<svg xmlns=\"http://www.w3.org/2000/svg\" height=\"24px\"viewBox=\"0 0 24 24\"\n",
              "     width=\"24px\">\n",
              "    <g>\n",
              "        <path d=\"M19 3H5c-1.1 0-2 .9-2 2v14c0 1.1.9 2 2 2h14c1.1 0 2-.9 2-2V5c0-1.1-.9-2-2-2zM9 17H7v-7h2v7zm4 0h-2V7h2v10zm4 0h-2v-4h2v4z\"/>\n",
              "    </g>\n",
              "</svg>\n",
              "  </button>\n",
              "\n",
              "<style>\n",
              "  .colab-df-quickchart {\n",
              "      --bg-color: #E8F0FE;\n",
              "      --fill-color: #1967D2;\n",
              "      --hover-bg-color: #E2EBFA;\n",
              "      --hover-fill-color: #174EA6;\n",
              "      --disabled-fill-color: #AAA;\n",
              "      --disabled-bg-color: #DDD;\n",
              "  }\n",
              "\n",
              "  [theme=dark] .colab-df-quickchart {\n",
              "      --bg-color: #3B4455;\n",
              "      --fill-color: #D2E3FC;\n",
              "      --hover-bg-color: #434B5C;\n",
              "      --hover-fill-color: #FFFFFF;\n",
              "      --disabled-bg-color: #3B4455;\n",
              "      --disabled-fill-color: #666;\n",
              "  }\n",
              "\n",
              "  .colab-df-quickchart {\n",
              "    background-color: var(--bg-color);\n",
              "    border: none;\n",
              "    border-radius: 50%;\n",
              "    cursor: pointer;\n",
              "    display: none;\n",
              "    fill: var(--fill-color);\n",
              "    height: 32px;\n",
              "    padding: 0;\n",
              "    width: 32px;\n",
              "  }\n",
              "\n",
              "  .colab-df-quickchart:hover {\n",
              "    background-color: var(--hover-bg-color);\n",
              "    box-shadow: 0 1px 2px rgba(60, 64, 67, 0.3), 0 1px 3px 1px rgba(60, 64, 67, 0.15);\n",
              "    fill: var(--button-hover-fill-color);\n",
              "  }\n",
              "\n",
              "  .colab-df-quickchart-complete:disabled,\n",
              "  .colab-df-quickchart-complete:disabled:hover {\n",
              "    background-color: var(--disabled-bg-color);\n",
              "    fill: var(--disabled-fill-color);\n",
              "    box-shadow: none;\n",
              "  }\n",
              "\n",
              "  .colab-df-spinner {\n",
              "    border: 2px solid var(--fill-color);\n",
              "    border-color: transparent;\n",
              "    border-bottom-color: var(--fill-color);\n",
              "    animation:\n",
              "      spin 1s steps(1) infinite;\n",
              "  }\n",
              "\n",
              "  @keyframes spin {\n",
              "    0% {\n",
              "      border-color: transparent;\n",
              "      border-bottom-color: var(--fill-color);\n",
              "      border-left-color: var(--fill-color);\n",
              "    }\n",
              "    20% {\n",
              "      border-color: transparent;\n",
              "      border-left-color: var(--fill-color);\n",
              "      border-top-color: var(--fill-color);\n",
              "    }\n",
              "    30% {\n",
              "      border-color: transparent;\n",
              "      border-left-color: var(--fill-color);\n",
              "      border-top-color: var(--fill-color);\n",
              "      border-right-color: var(--fill-color);\n",
              "    }\n",
              "    40% {\n",
              "      border-color: transparent;\n",
              "      border-right-color: var(--fill-color);\n",
              "      border-top-color: var(--fill-color);\n",
              "    }\n",
              "    60% {\n",
              "      border-color: transparent;\n",
              "      border-right-color: var(--fill-color);\n",
              "    }\n",
              "    80% {\n",
              "      border-color: transparent;\n",
              "      border-right-color: var(--fill-color);\n",
              "      border-bottom-color: var(--fill-color);\n",
              "    }\n",
              "    90% {\n",
              "      border-color: transparent;\n",
              "      border-bottom-color: var(--fill-color);\n",
              "    }\n",
              "  }\n",
              "</style>\n",
              "\n",
              "  <script>\n",
              "    async function quickchart(key) {\n",
              "      const quickchartButtonEl =\n",
              "        document.querySelector('#' + key + ' button');\n",
              "      quickchartButtonEl.disabled = true;  // To prevent multiple clicks.\n",
              "      quickchartButtonEl.classList.add('colab-df-spinner');\n",
              "      try {\n",
              "        const charts = await google.colab.kernel.invokeFunction(\n",
              "            'suggestCharts', [key], {});\n",
              "      } catch (error) {\n",
              "        console.error('Error during call to suggestCharts:', error);\n",
              "      }\n",
              "      quickchartButtonEl.classList.remove('colab-df-spinner');\n",
              "      quickchartButtonEl.classList.add('colab-df-quickchart-complete');\n",
              "    }\n",
              "    (() => {\n",
              "      let quickchartButtonEl =\n",
              "        document.querySelector('#df-03f90a42-74c3-4654-a376-78a056b3c576 button');\n",
              "      quickchartButtonEl.style.display =\n",
              "        google.colab.kernel.accessAllowed ? 'block' : 'none';\n",
              "    })();\n",
              "  </script>\n",
              "</div>\n",
              "\n",
              "    </div>\n",
              "  </div>\n"
            ],
            "application/vnd.google.colaboratory.intrinsic+json": {
              "type": "dataframe",
              "variable_name": "data",
              "summary": "{\n  \"name\": \"data\",\n  \"rows\": 4600,\n  \"fields\": [\n    {\n      \"column\": \"date\",\n      \"properties\": {\n        \"dtype\": \"object\",\n        \"num_unique_values\": 70,\n        \"samples\": [\n          \"2014-05-24 00:00:00\",\n          \"2014-05-02 00:00:00\",\n          \"2014-06-20 00:00:00\"\n        ],\n        \"semantic_type\": \"\",\n        \"description\": \"\"\n      }\n    },\n    {\n      \"column\": \"price\",\n      \"properties\": {\n        \"dtype\": \"number\",\n        \"std\": 563834.7025471417,\n        \"min\": 0.0,\n        \"max\": 26590000.0,\n        \"num_unique_values\": 1741,\n        \"samples\": [\n          689900.0,\n          170500.0,\n          466800.0\n        ],\n        \"semantic_type\": \"\",\n        \"description\": \"\"\n      }\n    },\n    {\n      \"column\": \"bedrooms\",\n      \"properties\": {\n        \"dtype\": \"number\",\n        \"std\": 0.9088481155258205,\n        \"min\": 0.0,\n        \"max\": 9.0,\n        \"num_unique_values\": 10,\n        \"samples\": [\n          8.0,\n          5.0,\n          7.0\n        ],\n        \"semantic_type\": \"\",\n        \"description\": \"\"\n      }\n    },\n    {\n      \"column\": \"bathrooms\",\n      \"properties\": {\n        \"dtype\": \"number\",\n        \"std\": 0.7837810746502787,\n        \"min\": 0.0,\n        \"max\": 8.0,\n        \"num_unique_values\": 26,\n        \"samples\": [\n          3.25,\n          5.75,\n          1.5\n        ],\n        \"semantic_type\": \"\",\n        \"description\": \"\"\n      }\n    },\n    {\n      \"column\": \"sqft_living\",\n      \"properties\": {\n        \"dtype\": \"number\",\n        \"std\": 963,\n        \"min\": 370,\n        \"max\": 13540,\n        \"num_unique_values\": 566,\n        \"samples\": [\n          1785,\n          2701,\n          2840\n        ],\n        \"semantic_type\": \"\",\n        \"description\": \"\"\n      }\n    },\n    {\n      \"column\": \"sqft_lot\",\n      \"properties\": {\n        \"dtype\": \"number\",\n        \"std\": 35884,\n        \"min\": 638,\n        \"max\": 1074218,\n        \"num_unique_values\": 3113,\n        \"samples\": [\n          5540,\n          9292,\n          17334\n        ],\n        \"semantic_type\": \"\",\n        \"description\": \"\"\n      }\n    },\n    {\n      \"column\": \"floors\",\n      \"properties\": {\n        \"dtype\": \"number\",\n        \"std\": 0.5382883772969805,\n        \"min\": 1.0,\n        \"max\": 3.5,\n        \"num_unique_values\": 6,\n        \"samples\": [\n          1.5,\n          2.0,\n          3.5\n        ],\n        \"semantic_type\": \"\",\n        \"description\": \"\"\n      }\n    },\n    {\n      \"column\": \"waterfront\",\n      \"properties\": {\n        \"dtype\": \"number\",\n        \"std\": 0,\n        \"min\": 0,\n        \"max\": 1,\n        \"num_unique_values\": 2,\n        \"samples\": [\n          1,\n          0\n        ],\n        \"semantic_type\": \"\",\n        \"description\": \"\"\n      }\n    },\n    {\n      \"column\": \"view\",\n      \"properties\": {\n        \"dtype\": \"number\",\n        \"std\": 0,\n        \"min\": 0,\n        \"max\": 4,\n        \"num_unique_values\": 5,\n        \"samples\": [\n          4,\n          3\n        ],\n        \"semantic_type\": \"\",\n        \"description\": \"\"\n      }\n    },\n    {\n      \"column\": \"condition\",\n      \"properties\": {\n        \"dtype\": \"number\",\n        \"std\": 0,\n        \"min\": 1,\n        \"max\": 5,\n        \"num_unique_values\": 5,\n        \"samples\": [\n          5,\n          1\n        ],\n        \"semantic_type\": \"\",\n        \"description\": \"\"\n      }\n    },\n    {\n      \"column\": \"sqft_above\",\n      \"properties\": {\n        \"dtype\": \"number\",\n        \"std\": 862,\n        \"min\": 370,\n        \"max\": 9410,\n        \"num_unique_values\": 511,\n        \"samples\": [\n          2280,\n          2230\n        ],\n        \"semantic_type\": \"\",\n        \"description\": \"\"\n      }\n    },\n    {\n      \"column\": \"sqft_basement\",\n      \"properties\": {\n        \"dtype\": \"number\",\n        \"std\": 464,\n        \"min\": 0,\n        \"max\": 4820,\n        \"num_unique_values\": 207,\n        \"samples\": [\n          460,\n          310\n        ],\n        \"semantic_type\": \"\",\n        \"description\": \"\"\n      }\n    },\n    {\n      \"column\": \"yr_built\",\n      \"properties\": {\n        \"dtype\": \"number\",\n        \"std\": 29,\n        \"min\": 1900,\n        \"max\": 2014,\n        \"num_unique_values\": 115,\n        \"samples\": [\n          1926,\n          1976\n        ],\n        \"semantic_type\": \"\",\n        \"description\": \"\"\n      }\n    },\n    {\n      \"column\": \"yr_renovated\",\n      \"properties\": {\n        \"dtype\": \"number\",\n        \"std\": 979,\n        \"min\": 0,\n        \"max\": 2014,\n        \"num_unique_values\": 60,\n        \"samples\": [\n          2005,\n          1988\n        ],\n        \"semantic_type\": \"\",\n        \"description\": \"\"\n      }\n    },\n    {\n      \"column\": \"street\",\n      \"properties\": {\n        \"dtype\": \"string\",\n        \"num_unique_values\": 4525,\n        \"samples\": [\n          \"743 N 80th St\",\n          \"157 Pike St NE\"\n        ],\n        \"semantic_type\": \"\",\n        \"description\": \"\"\n      }\n    },\n    {\n      \"column\": \"city\",\n      \"properties\": {\n        \"dtype\": \"category\",\n        \"num_unique_values\": 44,\n        \"samples\": [\n          \"Medina\",\n          \"Inglewood-Finn Hill\"\n        ],\n        \"semantic_type\": \"\",\n        \"description\": \"\"\n      }\n    },\n    {\n      \"column\": \"statezip\",\n      \"properties\": {\n        \"dtype\": \"category\",\n        \"num_unique_values\": 77,\n        \"samples\": [\n          \"WA 98052\",\n          \"WA 98075\"\n        ],\n        \"semantic_type\": \"\",\n        \"description\": \"\"\n      }\n    },\n    {\n      \"column\": \"country\",\n      \"properties\": {\n        \"dtype\": \"category\",\n        \"num_unique_values\": 1,\n        \"samples\": [\n          \"USA\"\n        ],\n        \"semantic_type\": \"\",\n        \"description\": \"\"\n      }\n    }\n  ]\n}"
            }
          },
          "metadata": {},
          "execution_count": 30
        }
      ]
    },
    {
      "cell_type": "markdown",
      "source": [
        "##Xususiyatlarni Tanlash"
      ],
      "metadata": {
        "id": "xVVBeO0tcVri"
      }
    },
    {
      "cell_type": "markdown",
      "source": [
        "Keling, modelda foydalanmoqchi bo'lgan xususiyatlarni tanlaylik. Ishni oddiy qilish uchun, biz qo'lda tanlangan xususiyatlar ro'yxatini ishlatamiz:"
      ],
      "metadata": {
        "id": "tLmRAOnYcSun"
      }
    },
    {
      "cell_type": "code",
      "source": [
        "features = ['bedrooms', 'bathrooms', 'sqft_living', 'sqft_lot',\n",
        "       'floors', 'waterfront', 'view', 'condition', 'sqft_above',\n",
        "       'sqft_basement', 'yr_built', 'yr_renovated']\n",
        "\n",
        "target = \"price\""
      ],
      "metadata": {
        "id": "0RHv8biUa6sp"
      },
      "execution_count": 31,
      "outputs": []
    },
    {
      "cell_type": "markdown",
      "source": [
        "##Kross-Validatsiya"
      ],
      "metadata": {
        "id": "Mj4Mqz9qcfkG"
      }
    },
    {
      "cell_type": "markdown",
      "source": [
        "Keyingi qadamda, ma'lumotlar to'plamimizni o'quv (training) va test (testing) to'plamlariga bo'lishimiz kerak:"
      ],
      "metadata": {
        "id": "73Z0WLk8cjG7"
      }
    },
    {
      "cell_type": "code",
      "source": [
        "from sklearn.model_selection import train_test_split\n",
        "\n",
        "y = data[target]\n",
        "X = data[features]\n",
        "X_train, X_test, y_train, y_test = train_test_split(X, y, test_size=0.33, random_state=42)"
      ],
      "metadata": {
        "id": "FuI3fER3W_De"
      },
      "execution_count": 36,
      "outputs": []
    },
    {
      "cell_type": "markdown",
      "source": [
        "##Model"
      ],
      "metadata": {
        "id": "UnEJ8shMdjSH"
      }
    },
    {
      "cell_type": "markdown",
      "source": [
        "  Ishni oddiy qilish uchun, biz chiziqli regressiya modelini ishlatamiz:"
      ],
      "metadata": {
        "id": "j9MXf6QjdgaI"
      }
    },
    {
      "cell_type": "code",
      "source": [
        "from sklearn.ensemble import RandomForestRegressor\n",
        "from sklearn.linear_model import LinearRegression\n",
        "\n",
        "model = LinearRegression()\n",
        "\n",
        "model.fit(X_train, y_train)\n",
        "y_preds = model.predict(X_test)"
      ],
      "metadata": {
        "id": "wKCNIOtQXDhi"
      },
      "execution_count": 39,
      "outputs": []
    },
    {
      "cell_type": "markdown",
      "source": [
        "##Baholash Metrikalari"
      ],
      "metadata": {
        "id": "a40hSYCIfFjm"
      }
    },
    {
      "cell_type": "markdown",
      "source": [
        "Eng keng tarqalgan baholash metrikalari — r2_score, rmse va mae. Bu yerda, sklearn o'zining implementatsiyasiga ega:"
      ],
      "metadata": {
        "id": "lq8DwM5dfCii"
      }
    },
    {
      "cell_type": "code",
      "source": [
        "from sklearn.metrics import (\n",
        "    r2_score,\n",
        "    mean_absolute_error,\n",
        "    mean_squared_error\n",
        ")\n",
        "\n",
        "r2 = r2_score(y_test, y_preds)\n",
        "rmse = np.sqrt(mean_squared_error(y_test, y_preds))\n",
        "mae = mean_absolute_error(y_test, y_preds)\n",
        "\n",
        "print(\"r2_score: {0}\".format(r2))\n",
        "print(\"rmse: {0}\".format(rmse))\n",
        "print(\"mae:{0}\".format(mae))"
      ],
      "metadata": {
        "colab": {
          "base_uri": "https://localhost:8080/"
        },
        "id": "zGO96zX-XFuV",
        "outputId": "48200856-ab09-47e4-e7c9-d79c00c68091"
      },
      "execution_count": 40,
      "outputs": [
        {
          "output_type": "stream",
          "name": "stdout",
          "text": [
            "r2_score: 0.0662329312093658\n",
            "rmse: 788277.1876925749\n",
            "mae:191902.15686060506\n"
          ]
        }
      ]
    },
    {
      "cell_type": "markdown",
      "source": [
        "## R2 Score"
      ],
      "metadata": {
        "id": "uIkm3XpIgRXa"
      }
    },
    {
      "cell_type": "markdown",
      "source": [
        "R-squaredning intuitiv tushunchasi shundaki, u bizga y o'zgaruvchisi bo'yicha bashorat xatosining necha foizi modelingiz tomonidan bartaraf etilganini yoki tushuntirilganini aytib beradi. Buni biz \"moslikning yaxshiligi\"ni aniqlash uchun ishlatamiz.\n",
        "\n",
        "Mana, R2 ning ichki ishlashini ko'rishingiz uchun R2 ning implementatsiyasi:"
      ],
      "metadata": {
        "id": "Adto0yh4gPy7"
      }
    },
    {
      "cell_type": "code",
      "source": [
        "def r2_score(y_test, y_preds):\n",
        "    SS_reg = np.sum((y_test - y_preds)**2)\n",
        "    SS_total = np.sum((y_test - np.mean(y_test))**2)\n",
        "    r2 = 1-SS_reg/SS_total\n",
        "\n",
        "    return r2\n",
        "\n",
        "r2_score(y_test, y_preds)"
      ],
      "metadata": {
        "colab": {
          "base_uri": "https://localhost:8080/"
        },
        "id": "QdVwRB7ygIRC",
        "outputId": "06d6bdcd-47bb-4db3-ad84-c9843a3b2efc"
      },
      "execution_count": 41,
      "outputs": [
        {
          "output_type": "execute_result",
          "data": {
            "text/plain": [
              "0.0662329312093658"
            ]
          },
          "metadata": {},
          "execution_count": 41
        }
      ]
    },
    {
      "cell_type": "markdown",
      "source": [
        "## Tuzatilgan R-Squared"
      ],
      "metadata": {
        "id": "nAVux2Z1jB-f"
      }
    },
    {
      "cell_type": "markdown",
      "source": [
        "\n",
        "Muammo shundaki, R-Squared osonlik bilan manipulyatsiya qilinishi mumkin. Agar biz modelimizni haddan tashqari moslashtirsak, bu har doim r2 skorini oshiradi. Shuning uchun yechim — tuzatilgan R-squaredni ishlatishdir. Tuzatilgan R-squared modelimizdagi xususiyatlar soniga asoslanib, R-squared raqamini moslashtiradi."
      ],
      "metadata": {
        "id": "AiVs65GCi__n"
      }
    },
    {
      "cell_type": "code",
      "source": [
        "def adf_r2_score(X, y_test, y_preds):\n",
        "    SS_reg = np.sum((y_test - y_preds)**2)\n",
        "    SS_total = np.sum((y_test - np.mean(y_test))**2)\n",
        "    r2 = 1-SS_reg/SS_total\n",
        "\n",
        "    N = len(X)\n",
        "    p = len(X.columns)\n",
        "\n",
        "    adj_r2 = 1-((1-r2)*(N-1))/(N-p-1)\n",
        "    return adj_r2\n",
        "\n",
        "adj_r2_score(X, y_test, y_preds)"
      ],
      "metadata": {
        "colab": {
          "base_uri": "https://localhost:8080/"
        },
        "id": "o1ip9hbIXMGw",
        "outputId": "fddf84ba-efc7-4d39-bc48-496501dd4b8b"
      },
      "execution_count": 42,
      "outputs": [
        {
          "output_type": "execute_result",
          "data": {
            "text/plain": [
              "0.06379011350160735"
            ]
          },
          "metadata": {},
          "execution_count": 42
        }
      ]
    },
    {
      "cell_type": "markdown",
      "source": [
        "##O'rtacha Mutlaq Xato"
      ],
      "metadata": {
        "id": "-2QXWfXikGHz"
      }
    },
    {
      "cell_type": "markdown",
      "source": [
        "\n",
        "Oddiy qilib aytganda, biz har bir ma'lumot nuqtasi uchun mutlaq o'rtacha xatolarni ko'rib chiqamiz. So'ngra ularning o'rtachasini olishamiz. Bu bizga ma'lumotlar to'plamimizdagi o'rtacha xatoning kattaligini beradi."
      ],
      "metadata": {
        "id": "wzMlr31ckF3A"
      }
    },
    {
      "cell_type": "code",
      "source": [
        "def mean_absolute_error(y_test, y_preds):\n",
        "    return np.sum(abs(y_preds - y_test))/len(y_preds)\n",
        "\n",
        "mean_absolute_error(y_test, y_preds)"
      ],
      "metadata": {
        "colab": {
          "base_uri": "https://localhost:8080/"
        },
        "id": "QIcXvMCoXPRE",
        "outputId": "ec6aa29e-d5b9-4613-b200-1cc4e3d9146b"
      },
      "execution_count": 43,
      "outputs": [
        {
          "output_type": "execute_result",
          "data": {
            "text/plain": [
              "191902.15686060506"
            ]
          },
          "metadata": {},
          "execution_count": 43
        }
      ]
    },
    {
      "cell_type": "markdown",
      "source": [
        "##Ko'k O'rtacha Kvadrat Xato (RMSE)"
      ],
      "metadata": {
        "id": "ZYjBAm_Xkwhu"
      }
    },
    {
      "cell_type": "markdown",
      "source": [
        "\n",
        "Xatoliklarning mutlaq qiymatini olish o'rniga, bu holatda avval xatoliklarni kvadratlashamiz. Bu barcha xatoliklarni musbat qilishni ta'minlaydi. So'ngra kvadratlangan xatoliklarning o'rtachasini olamiz, bu o'rtacha kvadrat xato (MSE) ga aylanadi. Nihoyat, biz ildiz olishimiz orqali RMSE ni hisoblaymiz"
      ],
      "metadata": {
        "id": "BXumF1SwklQD"
      }
    },
    {
      "cell_type": "code",
      "source": [
        "def mean_squared_error(y_test, y_preds):\n",
        "    return np.sum((y_preds - y_test)**2)/len(y_preds)\n",
        "\n",
        "np.sqrt(mean_squared_error(y_test, y_preds))"
      ],
      "metadata": {
        "colab": {
          "base_uri": "https://localhost:8080/"
        },
        "id": "TJqkC8hKXSyK",
        "outputId": "8bb1a213-b5fc-4e1e-a3af-6a0864f43c38"
      },
      "execution_count": 44,
      "outputs": [
        {
          "output_type": "execute_result",
          "data": {
            "text/plain": [
              "788277.1876925749"
            ]
          },
          "metadata": {},
          "execution_count": 44
        }
      ]
    }
  ]
}